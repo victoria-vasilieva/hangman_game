{
  "nbformat": 4,
  "nbformat_minor": 0,
  "metadata": {
    "colab": {
      "provenance": []
    },
    "kernelspec": {
      "name": "python3",
      "display_name": "Python 3"
    },
    "language_info": {
      "name": "python"
    }
  },
  "cells": [
    {
      "cell_type": "code",
      "source": [
        "# Import the game function from the .py file\n",
        "from hangman_game import play_hangman\n",
        "\n",
        "# Start the game\n",
        "play_hangman()"
      ],
      "metadata": {
        "id": "XAwNyge75TPI"
      },
      "execution_count": 17,
      "outputs": []
    }
  ]
}